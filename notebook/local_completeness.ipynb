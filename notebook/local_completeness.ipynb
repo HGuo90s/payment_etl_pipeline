{
 "cells": [
  {
   "cell_type": "code",
   "execution_count": null,
   "id": "56d89dc5-dbcd-4aa5-b31e-7ff13e863a98",
   "metadata": {},
   "outputs": [],
   "source": [
    "# completeness test\n"
   ]
  },
  {
   "cell_type": "code",
   "execution_count": 2,
   "id": "70d4165b-a1d9-4ab9-8640-e18b8986708d",
   "metadata": {
    "tags": []
   },
   "outputs": [],
   "source": [
    "import numpy as np\n",
    "import pandas as pd\n",
    "import sqlite3"
   ]
  },
  {
   "cell_type": "code",
   "execution_count": 3,
   "id": "2624b191-251b-4b60-904d-65747d18f8ed",
   "metadata": {
    "tags": []
   },
   "outputs": [],
   "source": [
    "dim_cust = pd.read_csv('dim_cust.csv')\n",
    "dim_date = pd.read_csv('dim_date.csv')\n",
    "dim_emp= pd.read_csv('dim_emp.csv')\n",
    "dim_geo = pd.read_csv('dim_geo.csv')\n",
    "dim_ostatus = pd.read_csv('dim_ostatus.csv')\n",
    "dim_prod = pd.read_csv('dim_prod.csv')\n",
    "fact_orders = pd.read_csv('fact_orders.csv')"
   ]
  },
  {
   "cell_type": "code",
   "execution_count": 24,
   "id": "e4ca458e-2c80-4835-8f48-47e1149ee07c",
   "metadata": {
    "tags": []
   },
   "outputs": [],
   "source": [
    "dim_columns = {\n",
    "    \"customer_id\": \"dim_cust\", \"customer_name\": \"dim_cust\", \n",
    "    \"date_full\": \"dim_date\", \"employee_id\": \"dim_emp\", \n",
    "    \"employee_name\": \"dim_emp\", \"state_id\": \"dim_geo\", \n",
    "    \"state_code\": \"dim_geo\", \"country\": \"dim_geo\", \n",
    "    \"state_name\": \"dim_geo\", \"iso_code\": 'dim_geo', \n",
    "    \"status_id\": \"dim_ostatus\", \"status_name\": \"dim_ostatus\", \n",
    "    \"product_id\": \"dim_prod\", \"product_name\": \"dim_prod\", \n",
    "    \"category\": \"dim_prod\", \"brand\": \"dim_prod\", \n",
    "    \"standard_cost\": \"dim_prod\"\n",
    "}\n",
    "# Define your tables dictionary for easier access\n",
    "tables = {\n",
    "    'dim_cust': dim_cust,\n",
    "    'dim_date': dim_date,\n",
    "    'dim_emp': dim_emp, \n",
    "    'dim_geo': dim_geo,\n",
    "    'dim_ostatus': dim_ostatus,\n",
    "    'dim_prod': dim_prod,\n",
    "    'fact_orders': fact_orders\n",
    "}\n",
    "fact_columns = [\"order_number\", \"order_date\", \"customer_id\", \n",
    "                \"state_id\", \"product_id\", \"status_id\", \"employee_id\", \n",
    "                \"unit_cost\", \"unit_sales\", \"quantity\", \"total_cost\", \n",
    "                \"total_sales\", \"profit\"]"
   ]
  },
  {
   "cell_type": "code",
   "execution_count": 19,
   "id": "ee3bed5a-efd9-4c66-b7ce-04280ed1e700",
   "metadata": {
    "tags": []
   },
   "outputs": [
    {
     "data": {
      "text/plain": [
       "[56, 56]"
      ]
     },
     "execution_count": 19,
     "metadata": {},
     "output_type": "execute_result"
    }
   ],
   "source": [
    "total_records"
   ]
  },
  {
   "cell_type": "code",
   "execution_count": 30,
   "id": "da681cdb-2051-44a9-a457-3e588c127fc4",
   "metadata": {
    "tags": []
   },
   "outputs": [],
   "source": [
    "# completeness table for dimension tables\n",
    "df_columns = pd.DataFrame({\n",
    "    'column_name': list(dim_columns.keys()), \n",
    "    'table_name': list(dim_columns.values())\n",
    "})\n",
    "total_records, null_values = [], []\n",
    "# get the total record and null counts\n",
    "for item, value in dim_columns.items():\n",
    "    total_records.append(tables[value][item].count())\n",
    "    null_values.append(tables[value][item].isna().sum())\n",
    "df_columns['total_records'] = total_records\n",
    "df_columns['null_count'] = null_values\n",
    "df_columns['null_percentage'] = round(100*df_columns['null_count']/df_columns['total_records'], 2)"
   ]
  },
  {
   "cell_type": "code",
   "execution_count": 36,
   "id": "0c89949a-e09e-4fa5-9538-19e50c17d920",
   "metadata": {},
   "outputs": [],
   "source": [
    "# completeness table for the fact tables\n",
    "df_columns1 = pd.DataFrame({'column_name': fact_columns})\n",
    "df_columns1['table_name'] = 'fact_orders'\n",
    "total_records1, null_values1 = [], []\n",
    "for val in fact_columns: \n",
    "    total_records1.append(fact_orders[val].count())\n",
    "    null_values1.append(fact_orders[val].isna().sum())\n",
    "df_columns1['total_records'] = total_records1\n",
    "df_columns1['null_count'] = null_values1\n",
    "df_columns1['null_percentage'] = round(100*df_columns1['null_count']/df_columns1['total_records'], 2)\n",
    "# join the two completness tables\n",
    "df_columns0 = pd.concat([df_columns, df_columns1], axis=0)"
   ]
  },
  {
   "cell_type": "code",
   "execution_count": 40,
   "id": "c4bd4c0b-3eb9-414e-98ed-7cfcc6a46eaa",
   "metadata": {
    "tags": []
   },
   "outputs": [],
   "source": [
    "df_columns0.to_csv('completeness.csv', index=False)"
   ]
  },
  {
   "cell_type": "code",
   "execution_count": null,
   "id": "e8fbfcfc-ebde-406c-8c80-270698aaad67",
   "metadata": {},
   "outputs": [],
   "source": []
  },
  {
   "cell_type": "code",
   "execution_count": null,
   "id": "310c6963-7ebf-4276-9b53-b163225ca56e",
   "metadata": {},
   "outputs": [],
   "source": []
  }
 ],
 "metadata": {
  "kernelspec": {
   "display_name": "Python 3 (ipykernel)",
   "language": "python",
   "name": "python3"
  },
  "language_info": {
   "codemirror_mode": {
    "name": "ipython",
    "version": 3
   },
   "file_extension": ".py",
   "mimetype": "text/x-python",
   "name": "python",
   "nbconvert_exporter": "python",
   "pygments_lexer": "ipython3",
   "version": "3.7.4"
  }
 },
 "nbformat": 4,
 "nbformat_minor": 5
}
